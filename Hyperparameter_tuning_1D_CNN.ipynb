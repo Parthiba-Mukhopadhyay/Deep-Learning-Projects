{
  "cells": [
    {
      "cell_type": "code",
      "execution_count": null,
      "metadata": {
        "id": "f01HIZ2lrmXS",
        "outputId": "7299b293-c1ad-4665-cf1c-b15bd5c6348f"
      },
      "outputs": [
        {
          "name": "stderr",
          "output_type": "stream",
          "text": [
            "C:\\Users\\Admin\\AppData\\Local\\Temp\\ipykernel_22256\\401212243.py:1: DeprecationWarning: \n",
            "Pyarrow will become a required dependency of pandas in the next major release of pandas (pandas 3.0),\n",
            "(to allow more performant data types, such as the Arrow string type, and better interoperability with other libraries)\n",
            "but was not found to be installed on your system.\n",
            "If this would cause problems for you,\n",
            "please provide us feedback at https://github.com/pandas-dev/pandas/issues/54466\n",
            "        \n",
            "  import pandas as pd\n"
          ]
        },
        {
          "name": "stdout",
          "output_type": "stream",
          "text": [
            "WARNING:tensorflow:From c:\\Users\\Admin\\AppData\\Local\\Programs\\Python\\Python39\\lib\\site-packages\\keras\\src\\losses.py:2976: The name tf.losses.sparse_softmax_cross_entropy is deprecated. Please use tf.compat.v1.losses.sparse_softmax_cross_entropy instead.\n",
            "\n"
          ]
        }
      ],
      "source": [
        "import pandas as pd\n",
        "import numpy as np\n",
        "import matplotlib.pyplot as plt\n",
        "import tensorflow as tf\n",
        "from tensorflow import keras\n",
        "from keras.layers import Flatten, Dense, Conv1D, MaxPool1D, Dropout\n",
        "from scikeras.wrappers import KerasClassifier\n",
        "from sklearn.model_selection import GridSearchCV"
      ]
    },
    {
      "cell_type": "code",
      "execution_count": null,
      "metadata": {
        "id": "qanFHI1QrmXT",
        "outputId": "586dc7db-011d-4fb6-a9cd-e41368168ae3"
      },
      "outputs": [
        {
          "data": {
            "text/html": [
              "<div>\n",
              "<style scoped>\n",
              "    .dataframe tbody tr th:only-of-type {\n",
              "        vertical-align: middle;\n",
              "    }\n",
              "\n",
              "    .dataframe tbody tr th {\n",
              "        vertical-align: top;\n",
              "    }\n",
              "\n",
              "    .dataframe thead th {\n",
              "        text-align: right;\n",
              "    }\n",
              "</style>\n",
              "<table border=\"1\" class=\"dataframe\">\n",
              "  <thead>\n",
              "    <tr style=\"text-align: right;\">\n",
              "      <th></th>\n",
              "      <th>1.00E+00</th>\n",
              "      <th>7.58E-01</th>\n",
              "      <th>1.12E-01</th>\n",
              "      <th>0.00E+00</th>\n",
              "      <th>8.06E-02</th>\n",
              "      <th>7.85E-02</th>\n",
              "      <th>6.61E-02</th>\n",
              "      <th>4.96E-02</th>\n",
              "      <th>4.75E-02</th>\n",
              "      <th>3.51E-02</th>\n",
              "      <th>...</th>\n",
              "      <th>0.00E+00.56</th>\n",
              "      <th>0.00E+00.57</th>\n",
              "      <th>0.00E+00.58</th>\n",
              "      <th>0.00E+00.59</th>\n",
              "      <th>0.00E+00.60</th>\n",
              "      <th>0.00E+00.61</th>\n",
              "      <th>0.00E+00.62</th>\n",
              "      <th>0.00E+00.63</th>\n",
              "      <th>0.00E+00.64</th>\n",
              "      <th>0.00E+00.65</th>\n",
              "    </tr>\n",
              "  </thead>\n",
              "  <tbody>\n",
              "    <tr>\n",
              "      <th>0</th>\n",
              "      <td>0.908</td>\n",
              "      <td>0.784</td>\n",
              "      <td>0.531</td>\n",
              "      <td>0.363</td>\n",
              "      <td>0.366</td>\n",
              "      <td>0.34400</td>\n",
              "      <td>0.3330</td>\n",
              "      <td>0.30800</td>\n",
              "      <td>0.2970</td>\n",
              "      <td>0.3000</td>\n",
              "      <td>...</td>\n",
              "      <td>0.0</td>\n",
              "      <td>0.0</td>\n",
              "      <td>0.0</td>\n",
              "      <td>0.0</td>\n",
              "      <td>0.0</td>\n",
              "      <td>0.0</td>\n",
              "      <td>0.0</td>\n",
              "      <td>0.0</td>\n",
              "      <td>0.0</td>\n",
              "      <td>0.0</td>\n",
              "    </tr>\n",
              "    <tr>\n",
              "      <th>1</th>\n",
              "      <td>0.730</td>\n",
              "      <td>0.212</td>\n",
              "      <td>0.000</td>\n",
              "      <td>0.119</td>\n",
              "      <td>0.102</td>\n",
              "      <td>0.10200</td>\n",
              "      <td>0.1110</td>\n",
              "      <td>0.12400</td>\n",
              "      <td>0.1150</td>\n",
              "      <td>0.1330</td>\n",
              "      <td>...</td>\n",
              "      <td>0.0</td>\n",
              "      <td>0.0</td>\n",
              "      <td>0.0</td>\n",
              "      <td>0.0</td>\n",
              "      <td>0.0</td>\n",
              "      <td>0.0</td>\n",
              "      <td>0.0</td>\n",
              "      <td>0.0</td>\n",
              "      <td>0.0</td>\n",
              "      <td>0.0</td>\n",
              "    </tr>\n",
              "    <tr>\n",
              "      <th>2</th>\n",
              "      <td>1.000</td>\n",
              "      <td>0.910</td>\n",
              "      <td>0.681</td>\n",
              "      <td>0.473</td>\n",
              "      <td>0.229</td>\n",
              "      <td>0.06880</td>\n",
              "      <td>0.0000</td>\n",
              "      <td>0.00417</td>\n",
              "      <td>0.0146</td>\n",
              "      <td>0.0542</td>\n",
              "      <td>...</td>\n",
              "      <td>0.0</td>\n",
              "      <td>0.0</td>\n",
              "      <td>0.0</td>\n",
              "      <td>0.0</td>\n",
              "      <td>0.0</td>\n",
              "      <td>0.0</td>\n",
              "      <td>0.0</td>\n",
              "      <td>0.0</td>\n",
              "      <td>0.0</td>\n",
              "      <td>0.0</td>\n",
              "    </tr>\n",
              "    <tr>\n",
              "      <th>3</th>\n",
              "      <td>0.570</td>\n",
              "      <td>0.399</td>\n",
              "      <td>0.238</td>\n",
              "      <td>0.148</td>\n",
              "      <td>0.000</td>\n",
              "      <td>0.00336</td>\n",
              "      <td>0.0403</td>\n",
              "      <td>0.08050</td>\n",
              "      <td>0.0705</td>\n",
              "      <td>0.0906</td>\n",
              "      <td>...</td>\n",
              "      <td>0.0</td>\n",
              "      <td>0.0</td>\n",
              "      <td>0.0</td>\n",
              "      <td>0.0</td>\n",
              "      <td>0.0</td>\n",
              "      <td>0.0</td>\n",
              "      <td>0.0</td>\n",
              "      <td>0.0</td>\n",
              "      <td>0.0</td>\n",
              "      <td>0.0</td>\n",
              "    </tr>\n",
              "    <tr>\n",
              "      <th>4</th>\n",
              "      <td>1.000</td>\n",
              "      <td>0.924</td>\n",
              "      <td>0.656</td>\n",
              "      <td>0.196</td>\n",
              "      <td>0.112</td>\n",
              "      <td>0.17600</td>\n",
              "      <td>0.1220</td>\n",
              "      <td>0.05090</td>\n",
              "      <td>0.0356</td>\n",
              "      <td>0.0560</td>\n",
              "      <td>...</td>\n",
              "      <td>0.0</td>\n",
              "      <td>0.0</td>\n",
              "      <td>0.0</td>\n",
              "      <td>0.0</td>\n",
              "      <td>0.0</td>\n",
              "      <td>0.0</td>\n",
              "      <td>0.0</td>\n",
              "      <td>0.0</td>\n",
              "      <td>0.0</td>\n",
              "      <td>0.0</td>\n",
              "    </tr>\n",
              "  </tbody>\n",
              "</table>\n",
              "<p>5 rows × 188 columns</p>\n",
              "</div>"
            ],
            "text/plain": [
              "   1.00E+00  7.58E-01  1.12E-01  0.00E+00  8.06E-02  7.85E-02  6.61E-02  \\\n",
              "0     0.908     0.784     0.531     0.363     0.366   0.34400    0.3330   \n",
              "1     0.730     0.212     0.000     0.119     0.102   0.10200    0.1110   \n",
              "2     1.000     0.910     0.681     0.473     0.229   0.06880    0.0000   \n",
              "3     0.570     0.399     0.238     0.148     0.000   0.00336    0.0403   \n",
              "4     1.000     0.924     0.656     0.196     0.112   0.17600    0.1220   \n",
              "\n",
              "   4.96E-02  4.75E-02  3.51E-02  ...  0.00E+00.56  0.00E+00.57  0.00E+00.58  \\\n",
              "0   0.30800    0.2970    0.3000  ...          0.0          0.0          0.0   \n",
              "1   0.12400    0.1150    0.1330  ...          0.0          0.0          0.0   \n",
              "2   0.00417    0.0146    0.0542  ...          0.0          0.0          0.0   \n",
              "3   0.08050    0.0705    0.0906  ...          0.0          0.0          0.0   \n",
              "4   0.05090    0.0356    0.0560  ...          0.0          0.0          0.0   \n",
              "\n",
              "   0.00E+00.59  0.00E+00.60  0.00E+00.61  0.00E+00.62  0.00E+00.63  \\\n",
              "0          0.0          0.0          0.0          0.0          0.0   \n",
              "1          0.0          0.0          0.0          0.0          0.0   \n",
              "2          0.0          0.0          0.0          0.0          0.0   \n",
              "3          0.0          0.0          0.0          0.0          0.0   \n",
              "4          0.0          0.0          0.0          0.0          0.0   \n",
              "\n",
              "   0.00E+00.64  0.00E+00.65  \n",
              "0          0.0          0.0  \n",
              "1          0.0          0.0  \n",
              "2          0.0          0.0  \n",
              "3          0.0          0.0  \n",
              "4          0.0          0.0  \n",
              "\n",
              "[5 rows x 188 columns]"
            ]
          },
          "execution_count": 3,
          "metadata": {},
          "output_type": "execute_result"
        }
      ],
      "source": [
        "data = pd.read_csv('1D_Dataset.csv')\n",
        "data.head()"
      ]
    },
    {
      "cell_type": "code",
      "execution_count": null,
      "metadata": {
        "id": "sh6n2PxSrmXU",
        "outputId": "feeef4b1-b895-4340-d11c-6932e84ca895"
      },
      "outputs": [
        {
          "name": "stdout",
          "output_type": "stream",
          "text": [
            "<class 'pandas.core.frame.DataFrame'>\n",
            "RangeIndex: 21891 entries, 0 to 21890\n",
            "Columns: 188 entries, 1.00E+00 to 0.00E+00.65\n",
            "dtypes: float64(188)\n",
            "memory usage: 31.4 MB\n"
          ]
        }
      ],
      "source": [
        "data.info()"
      ]
    },
    {
      "cell_type": "code",
      "execution_count": null,
      "metadata": {
        "id": "5LS24J06rmXU"
      },
      "outputs": [],
      "source": [
        "for i in data.columns:\n",
        "    if data[i].isna().sum() > 0:\n",
        "        print(i)"
      ]
    },
    {
      "cell_type": "code",
      "execution_count": null,
      "metadata": {
        "id": "kJBsw0NUrmXU",
        "outputId": "2ee242a5-a21d-4387-f16b-e8706214562a"
      },
      "outputs": [
        {
          "data": {
            "text/html": [
              "<div>\n",
              "<style scoped>\n",
              "    .dataframe tbody tr th:only-of-type {\n",
              "        vertical-align: middle;\n",
              "    }\n",
              "\n",
              "    .dataframe tbody tr th {\n",
              "        vertical-align: top;\n",
              "    }\n",
              "\n",
              "    .dataframe thead th {\n",
              "        text-align: right;\n",
              "    }\n",
              "</style>\n",
              "<table border=\"1\" class=\"dataframe\">\n",
              "  <thead>\n",
              "    <tr style=\"text-align: right;\">\n",
              "      <th></th>\n",
              "      <th>1.00E+00</th>\n",
              "      <th>7.58E-01</th>\n",
              "      <th>1.12E-01</th>\n",
              "      <th>0.00E+00</th>\n",
              "      <th>8.06E-02</th>\n",
              "      <th>7.85E-02</th>\n",
              "      <th>6.61E-02</th>\n",
              "      <th>4.96E-02</th>\n",
              "      <th>4.75E-02</th>\n",
              "      <th>3.51E-02</th>\n",
              "      <th>...</th>\n",
              "      <th>0.00E+00.56</th>\n",
              "      <th>0.00E+00.57</th>\n",
              "      <th>0.00E+00.58</th>\n",
              "      <th>0.00E+00.59</th>\n",
              "      <th>0.00E+00.60</th>\n",
              "      <th>0.00E+00.61</th>\n",
              "      <th>0.00E+00.62</th>\n",
              "      <th>0.00E+00.63</th>\n",
              "      <th>0.00E+00.64</th>\n",
              "      <th>0.00E+00.65</th>\n",
              "    </tr>\n",
              "  </thead>\n",
              "  <tbody>\n",
              "    <tr>\n",
              "      <th>1.00E+00</th>\n",
              "      <td>1.000000</td>\n",
              "      <td>0.767466</td>\n",
              "      <td>0.148402</td>\n",
              "      <td>-0.114112</td>\n",
              "      <td>-0.222490</td>\n",
              "      <td>-0.334051</td>\n",
              "      <td>-0.413920</td>\n",
              "      <td>-0.468337</td>\n",
              "      <td>-0.510378</td>\n",
              "      <td>-0.551921</td>\n",
              "      <td>...</td>\n",
              "      <td>-0.061321</td>\n",
              "      <td>-0.061046</td>\n",
              "      <td>-0.052499</td>\n",
              "      <td>-0.052716</td>\n",
              "      <td>-0.052140</td>\n",
              "      <td>-0.054863</td>\n",
              "      <td>-0.049468</td>\n",
              "      <td>-0.047783</td>\n",
              "      <td>-0.046771</td>\n",
              "      <td>-0.163734</td>\n",
              "    </tr>\n",
              "    <tr>\n",
              "      <th>7.58E-01</th>\n",
              "      <td>0.767466</td>\n",
              "      <td>1.000000</td>\n",
              "      <td>0.515984</td>\n",
              "      <td>0.000150</td>\n",
              "      <td>-0.121121</td>\n",
              "      <td>-0.137256</td>\n",
              "      <td>-0.208444</td>\n",
              "      <td>-0.265689</td>\n",
              "      <td>-0.304390</td>\n",
              "      <td>-0.326600</td>\n",
              "      <td>...</td>\n",
              "      <td>-0.029242</td>\n",
              "      <td>-0.030764</td>\n",
              "      <td>-0.024437</td>\n",
              "      <td>-0.024637</td>\n",
              "      <td>-0.023683</td>\n",
              "      <td>-0.027761</td>\n",
              "      <td>-0.020354</td>\n",
              "      <td>-0.019511</td>\n",
              "      <td>-0.019662</td>\n",
              "      <td>-0.173783</td>\n",
              "    </tr>\n",
              "    <tr>\n",
              "      <th>1.12E-01</th>\n",
              "      <td>0.148402</td>\n",
              "      <td>0.515984</td>\n",
              "      <td>1.000000</td>\n",
              "      <td>0.682999</td>\n",
              "      <td>0.419615</td>\n",
              "      <td>0.354880</td>\n",
              "      <td>0.284037</td>\n",
              "      <td>0.204398</td>\n",
              "      <td>0.133577</td>\n",
              "      <td>0.069880</td>\n",
              "      <td>...</td>\n",
              "      <td>-0.023979</td>\n",
              "      <td>-0.025841</td>\n",
              "      <td>-0.029358</td>\n",
              "      <td>-0.032568</td>\n",
              "      <td>-0.031749</td>\n",
              "      <td>-0.033592</td>\n",
              "      <td>-0.030765</td>\n",
              "      <td>-0.031587</td>\n",
              "      <td>-0.031897</td>\n",
              "      <td>0.264492</td>\n",
              "    </tr>\n",
              "    <tr>\n",
              "      <th>0.00E+00</th>\n",
              "      <td>-0.114112</td>\n",
              "      <td>0.000150</td>\n",
              "      <td>0.682999</td>\n",
              "      <td>1.000000</td>\n",
              "      <td>0.822557</td>\n",
              "      <td>0.594655</td>\n",
              "      <td>0.468016</td>\n",
              "      <td>0.376837</td>\n",
              "      <td>0.276286</td>\n",
              "      <td>0.181203</td>\n",
              "      <td>...</td>\n",
              "      <td>-0.027383</td>\n",
              "      <td>-0.028270</td>\n",
              "      <td>-0.038509</td>\n",
              "      <td>-0.043264</td>\n",
              "      <td>-0.042627</td>\n",
              "      <td>-0.040997</td>\n",
              "      <td>-0.040366</td>\n",
              "      <td>-0.041559</td>\n",
              "      <td>-0.040508</td>\n",
              "      <td>0.514016</td>\n",
              "    </tr>\n",
              "    <tr>\n",
              "      <th>8.06E-02</th>\n",
              "      <td>-0.222490</td>\n",
              "      <td>-0.121121</td>\n",
              "      <td>0.419615</td>\n",
              "      <td>0.822557</td>\n",
              "      <td>1.000000</td>\n",
              "      <td>0.880974</td>\n",
              "      <td>0.747665</td>\n",
              "      <td>0.656574</td>\n",
              "      <td>0.551029</td>\n",
              "      <td>0.433023</td>\n",
              "      <td>...</td>\n",
              "      <td>0.003276</td>\n",
              "      <td>0.000848</td>\n",
              "      <td>-0.011971</td>\n",
              "      <td>-0.017635</td>\n",
              "      <td>-0.018767</td>\n",
              "      <td>-0.018237</td>\n",
              "      <td>-0.021663</td>\n",
              "      <td>-0.025438</td>\n",
              "      <td>-0.024611</td>\n",
              "      <td>0.512777</td>\n",
              "    </tr>\n",
              "    <tr>\n",
              "      <th>...</th>\n",
              "      <td>...</td>\n",
              "      <td>...</td>\n",
              "      <td>...</td>\n",
              "      <td>...</td>\n",
              "      <td>...</td>\n",
              "      <td>...</td>\n",
              "      <td>...</td>\n",
              "      <td>...</td>\n",
              "      <td>...</td>\n",
              "      <td>...</td>\n",
              "      <td>...</td>\n",
              "      <td>...</td>\n",
              "      <td>...</td>\n",
              "      <td>...</td>\n",
              "      <td>...</td>\n",
              "      <td>...</td>\n",
              "      <td>...</td>\n",
              "      <td>...</td>\n",
              "      <td>...</td>\n",
              "      <td>...</td>\n",
              "      <td>...</td>\n",
              "    </tr>\n",
              "    <tr>\n",
              "      <th>0.00E+00.61</th>\n",
              "      <td>-0.054863</td>\n",
              "      <td>-0.027761</td>\n",
              "      <td>-0.033592</td>\n",
              "      <td>-0.040997</td>\n",
              "      <td>-0.018237</td>\n",
              "      <td>0.004878</td>\n",
              "      <td>0.008532</td>\n",
              "      <td>0.019934</td>\n",
              "      <td>0.027673</td>\n",
              "      <td>0.024906</td>\n",
              "      <td>...</td>\n",
              "      <td>0.785644</td>\n",
              "      <td>0.813811</td>\n",
              "      <td>0.868236</td>\n",
              "      <td>0.914733</td>\n",
              "      <td>0.966527</td>\n",
              "      <td>1.000000</td>\n",
              "      <td>0.927660</td>\n",
              "      <td>0.874161</td>\n",
              "      <td>0.852649</td>\n",
              "      <td>0.036428</td>\n",
              "    </tr>\n",
              "    <tr>\n",
              "      <th>0.00E+00.62</th>\n",
              "      <td>-0.049468</td>\n",
              "      <td>-0.020354</td>\n",
              "      <td>-0.030765</td>\n",
              "      <td>-0.040366</td>\n",
              "      <td>-0.021663</td>\n",
              "      <td>-0.000697</td>\n",
              "      <td>0.002300</td>\n",
              "      <td>0.013515</td>\n",
              "      <td>0.021240</td>\n",
              "      <td>0.018037</td>\n",
              "      <td>...</td>\n",
              "      <td>0.732448</td>\n",
              "      <td>0.757357</td>\n",
              "      <td>0.801438</td>\n",
              "      <td>0.836081</td>\n",
              "      <td>0.882689</td>\n",
              "      <td>0.927660</td>\n",
              "      <td>1.000000</td>\n",
              "      <td>0.957046</td>\n",
              "      <td>0.931867</td>\n",
              "      <td>0.033586</td>\n",
              "    </tr>\n",
              "    <tr>\n",
              "      <th>0.00E+00.63</th>\n",
              "      <td>-0.047783</td>\n",
              "      <td>-0.019511</td>\n",
              "      <td>-0.031587</td>\n",
              "      <td>-0.041559</td>\n",
              "      <td>-0.025438</td>\n",
              "      <td>-0.005618</td>\n",
              "      <td>-0.002196</td>\n",
              "      <td>0.009695</td>\n",
              "      <td>0.018495</td>\n",
              "      <td>0.015779</td>\n",
              "      <td>...</td>\n",
              "      <td>0.706141</td>\n",
              "      <td>0.726383</td>\n",
              "      <td>0.766276</td>\n",
              "      <td>0.796163</td>\n",
              "      <td>0.834263</td>\n",
              "      <td>0.874161</td>\n",
              "      <td>0.957046</td>\n",
              "      <td>1.000000</td>\n",
              "      <td>0.982617</td>\n",
              "      <td>0.031863</td>\n",
              "    </tr>\n",
              "    <tr>\n",
              "      <th>0.00E+00.64</th>\n",
              "      <td>-0.046771</td>\n",
              "      <td>-0.019662</td>\n",
              "      <td>-0.031897</td>\n",
              "      <td>-0.040508</td>\n",
              "      <td>-0.024611</td>\n",
              "      <td>-0.006473</td>\n",
              "      <td>-0.003375</td>\n",
              "      <td>0.008570</td>\n",
              "      <td>0.017707</td>\n",
              "      <td>0.015158</td>\n",
              "      <td>...</td>\n",
              "      <td>0.699595</td>\n",
              "      <td>0.718626</td>\n",
              "      <td>0.759308</td>\n",
              "      <td>0.786580</td>\n",
              "      <td>0.820897</td>\n",
              "      <td>0.852649</td>\n",
              "      <td>0.931867</td>\n",
              "      <td>0.982617</td>\n",
              "      <td>1.000000</td>\n",
              "      <td>0.032100</td>\n",
              "    </tr>\n",
              "    <tr>\n",
              "      <th>0.00E+00.65</th>\n",
              "      <td>-0.163734</td>\n",
              "      <td>-0.173783</td>\n",
              "      <td>0.264492</td>\n",
              "      <td>0.514016</td>\n",
              "      <td>0.512777</td>\n",
              "      <td>0.415165</td>\n",
              "      <td>0.332977</td>\n",
              "      <td>0.251747</td>\n",
              "      <td>0.161364</td>\n",
              "      <td>0.060817</td>\n",
              "      <td>...</td>\n",
              "      <td>0.044627</td>\n",
              "      <td>0.041560</td>\n",
              "      <td>0.039633</td>\n",
              "      <td>0.036647</td>\n",
              "      <td>0.036075</td>\n",
              "      <td>0.036428</td>\n",
              "      <td>0.033586</td>\n",
              "      <td>0.031863</td>\n",
              "      <td>0.032100</td>\n",
              "      <td>1.000000</td>\n",
              "    </tr>\n",
              "  </tbody>\n",
              "</table>\n",
              "<p>188 rows × 188 columns</p>\n",
              "</div>"
            ],
            "text/plain": [
              "             1.00E+00  7.58E-01  1.12E-01  0.00E+00  8.06E-02  7.85E-02  \\\n",
              "1.00E+00     1.000000  0.767466  0.148402 -0.114112 -0.222490 -0.334051   \n",
              "7.58E-01     0.767466  1.000000  0.515984  0.000150 -0.121121 -0.137256   \n",
              "1.12E-01     0.148402  0.515984  1.000000  0.682999  0.419615  0.354880   \n",
              "0.00E+00    -0.114112  0.000150  0.682999  1.000000  0.822557  0.594655   \n",
              "8.06E-02    -0.222490 -0.121121  0.419615  0.822557  1.000000  0.880974   \n",
              "...               ...       ...       ...       ...       ...       ...   \n",
              "0.00E+00.61 -0.054863 -0.027761 -0.033592 -0.040997 -0.018237  0.004878   \n",
              "0.00E+00.62 -0.049468 -0.020354 -0.030765 -0.040366 -0.021663 -0.000697   \n",
              "0.00E+00.63 -0.047783 -0.019511 -0.031587 -0.041559 -0.025438 -0.005618   \n",
              "0.00E+00.64 -0.046771 -0.019662 -0.031897 -0.040508 -0.024611 -0.006473   \n",
              "0.00E+00.65 -0.163734 -0.173783  0.264492  0.514016  0.512777  0.415165   \n",
              "\n",
              "             6.61E-02  4.96E-02  4.75E-02  3.51E-02  ...  0.00E+00.56  \\\n",
              "1.00E+00    -0.413920 -0.468337 -0.510378 -0.551921  ...    -0.061321   \n",
              "7.58E-01    -0.208444 -0.265689 -0.304390 -0.326600  ...    -0.029242   \n",
              "1.12E-01     0.284037  0.204398  0.133577  0.069880  ...    -0.023979   \n",
              "0.00E+00     0.468016  0.376837  0.276286  0.181203  ...    -0.027383   \n",
              "8.06E-02     0.747665  0.656574  0.551029  0.433023  ...     0.003276   \n",
              "...               ...       ...       ...       ...  ...          ...   \n",
              "0.00E+00.61  0.008532  0.019934  0.027673  0.024906  ...     0.785644   \n",
              "0.00E+00.62  0.002300  0.013515  0.021240  0.018037  ...     0.732448   \n",
              "0.00E+00.63 -0.002196  0.009695  0.018495  0.015779  ...     0.706141   \n",
              "0.00E+00.64 -0.003375  0.008570  0.017707  0.015158  ...     0.699595   \n",
              "0.00E+00.65  0.332977  0.251747  0.161364  0.060817  ...     0.044627   \n",
              "\n",
              "             0.00E+00.57  0.00E+00.58  0.00E+00.59  0.00E+00.60  0.00E+00.61  \\\n",
              "1.00E+00       -0.061046    -0.052499    -0.052716    -0.052140    -0.054863   \n",
              "7.58E-01       -0.030764    -0.024437    -0.024637    -0.023683    -0.027761   \n",
              "1.12E-01       -0.025841    -0.029358    -0.032568    -0.031749    -0.033592   \n",
              "0.00E+00       -0.028270    -0.038509    -0.043264    -0.042627    -0.040997   \n",
              "8.06E-02        0.000848    -0.011971    -0.017635    -0.018767    -0.018237   \n",
              "...                  ...          ...          ...          ...          ...   \n",
              "0.00E+00.61     0.813811     0.868236     0.914733     0.966527     1.000000   \n",
              "0.00E+00.62     0.757357     0.801438     0.836081     0.882689     0.927660   \n",
              "0.00E+00.63     0.726383     0.766276     0.796163     0.834263     0.874161   \n",
              "0.00E+00.64     0.718626     0.759308     0.786580     0.820897     0.852649   \n",
              "0.00E+00.65     0.041560     0.039633     0.036647     0.036075     0.036428   \n",
              "\n",
              "             0.00E+00.62  0.00E+00.63  0.00E+00.64  0.00E+00.65  \n",
              "1.00E+00       -0.049468    -0.047783    -0.046771    -0.163734  \n",
              "7.58E-01       -0.020354    -0.019511    -0.019662    -0.173783  \n",
              "1.12E-01       -0.030765    -0.031587    -0.031897     0.264492  \n",
              "0.00E+00       -0.040366    -0.041559    -0.040508     0.514016  \n",
              "8.06E-02       -0.021663    -0.025438    -0.024611     0.512777  \n",
              "...                  ...          ...          ...          ...  \n",
              "0.00E+00.61     0.927660     0.874161     0.852649     0.036428  \n",
              "0.00E+00.62     1.000000     0.957046     0.931867     0.033586  \n",
              "0.00E+00.63     0.957046     1.000000     0.982617     0.031863  \n",
              "0.00E+00.64     0.931867     0.982617     1.000000     0.032100  \n",
              "0.00E+00.65     0.033586     0.031863     0.032100     1.000000  \n",
              "\n",
              "[188 rows x 188 columns]"
            ]
          },
          "execution_count": 6,
          "metadata": {},
          "output_type": "execute_result"
        }
      ],
      "source": [
        "data.corr()"
      ]
    },
    {
      "cell_type": "code",
      "execution_count": null,
      "metadata": {
        "id": "77XAj-2crmXU"
      },
      "outputs": [],
      "source": [
        "X=data.drop(data.columns[-1],axis=1)\n",
        "y=data[data.columns[-1]]"
      ]
    },
    {
      "cell_type": "code",
      "execution_count": null,
      "metadata": {
        "id": "V3fEXHDArmXU"
      },
      "outputs": [],
      "source": [
        "from sklearn.model_selection import train_test_split\n",
        "X_train, X_test, y_train, y_test = train_test_split(X, y, test_size =0.3, random_state=42)"
      ]
    },
    {
      "cell_type": "code",
      "execution_count": null,
      "metadata": {
        "id": "ATAUt2aprmXU",
        "outputId": "b81b33c9-d9e2-4210-f5eb-71ea30f7b350"
      },
      "outputs": [
        {
          "name": "stdout",
          "output_type": "stream",
          "text": [
            "size of X_train: (15323, 187)\n",
            "size of X_test: (6568, 187)\n",
            "size of y_train: (15323,)\n",
            "size of y_test: (6568,)\n"
          ]
        }
      ],
      "source": [
        "#size for the sets\n",
        "print('size of X_train:', X_train.shape)\n",
        "print('size of X_test:', X_test.shape)\n",
        "print('size of y_train:', y_train.shape)\n",
        "print('size of y_test:', y_test.shape)"
      ]
    },
    {
      "cell_type": "code",
      "execution_count": null,
      "metadata": {
        "id": "EDygp-EormXV"
      },
      "outputs": [],
      "source": [
        "#Reshape train and test data to (n_samples, 187, 1), where each sample is of size (187, 1)\n",
        "X_train = np.array(X_train).reshape(X_train.shape[0], X_train.shape[1], 1)\n",
        "X_test = np.array(X_test).reshape(X_test.shape[0], X_test.shape[1], 1)"
      ]
    },
    {
      "cell_type": "code",
      "execution_count": null,
      "metadata": {
        "id": "FfaNe8ZprmXV"
      },
      "outputs": [],
      "source": [
        "def create_model(nepochs):\n",
        "    cnn_model = tf.keras.models.Sequential()\n",
        "    #First CNN layer  with 32 filters, conv window 3, relu activation and same padding\n",
        "    cnn_model.add(Conv1D(filters=32, kernel_size=(3,), padding='same', activation=tf.keras.layers.LeakyReLU(alpha=0.003), input_shape = (X_train.shape[1],1)))\n",
        "    #Second CNN layer  with 64 filters, conv window 3, relu activation and same padding\n",
        "    cnn_model.add(Conv1D(filters=64, kernel_size=(3,), padding='same', activation=tf.keras.layers.LeakyReLU(alpha=0.003)))\n",
        "    #Third CNN layer with 128 filters, conv window 3, relu activation and same padding\n",
        "    cnn_model.add(Conv1D(filters=128, kernel_size=(3,), padding='same', activation=tf.keras.layers.LeakyReLU(alpha=0.003)))\n",
        "    #Fourth CNN layer with Max pooling\n",
        "    cnn_model.add(MaxPool1D(pool_size=(3,), strides=2, padding='same'))\n",
        "    cnn_model.add(Dropout(0.5))\n",
        "    #Flatten the output\n",
        "    cnn_model.add(Flatten())\n",
        "    #Add a dense layer with 256 neurons\n",
        "    cnn_model.add(Dense(units = 256, activation=tf.keras.layers.LeakyReLU(alpha=0.001)))\n",
        "    #Add a dense layer with 512 neurons\n",
        "    cnn_model.add(Dense(units = 512, activation=tf.keras.layers.LeakyReLU(alpha=0.001)))\n",
        "    #Softmax as last layer with five outputs\n",
        "    cnn_model.add(Dense(units = 5, activation='softmax'))\n",
        "    cnn_model.compile(optimizer='adam', loss = 'sparse_categorical_crossentropy', metrics=['accuracy'])\n",
        "    cnn_model.fit(X_train, y_train, epochs=nepochs, batch_size = 10, validation_data = (X_test, y_test))\n",
        "    return cnn_model\n",
        "\n",
        "model = KerasClassifier(model=create_model, nepochs=10)"
      ]
    },
    {
      "cell_type": "code",
      "execution_count": null,
      "metadata": {
        "id": "FEhIuSO5rmXV"
      },
      "outputs": [],
      "source": [
        "param_grid = dict(nepochs=[10,20,30])\n",
        "grid = GridSearchCV(estimator=model, param_grid=param_grid, n_jobs=-1, cv=3)\n",
        "grid_result = grid.fit(X_train, y_train)"
      ]
    },
    {
      "cell_type": "code",
      "execution_count": null,
      "metadata": {
        "id": "eUgNjLBUrmXV",
        "outputId": "ea84b900-df4c-4c5d-ddf5-f00bc4b49dc5"
      },
      "outputs": [
        {
          "name": "stdout",
          "output_type": "stream",
          "text": [
            "Epoch 1/10\n",
            " 926/1533 [=================>............] - ETA: 35s - loss: 0.3319 - accuracy: 0.9105"
          ]
        }
      ],
      "source": [
        "grid_result.best_params_"
      ]
    },
    {
      "cell_type": "code",
      "execution_count": null,
      "metadata": {
        "id": "MYh029EIrmXW"
      },
      "outputs": [],
      "source": [
        "model = create_model(nepochs=30)"
      ]
    },
    {
      "cell_type": "code",
      "execution_count": null,
      "metadata": {
        "id": "Q1mgSWJarmXW",
        "outputId": "11ac0375-e343-41fa-c82b-fd5d77dcba13"
      },
      "outputs": [
        {
          "data": {
            "text/plain": [
              "Text(0, 0.5, 'Accuracy')"
            ]
          },
          "execution_count": 21,
          "metadata": {},
          "output_type": "execute_result"
        },
        {
          "data": {
            "image/png": "[encoded data removed]",
            "text/plain": [
              "<Figure size 640x480 with 1 Axes>"
            ]
          },
          "metadata": {},
          "output_type": "display_data"
        }
      ],
      "source": [
        "plt.plot(model.history['accuracy'])\n",
        "plt.plot(model.history['val_accuracy'])\n",
        "plt.legend([\"accuracy\",\"val_accuracy\"])\n",
        "plt.title('Accuracy Vs Val_Accuracy')\n",
        "plt.xlabel('Epoch')\n",
        "plt.ylabel('Accuracy')"
      ]
    },
    {
      "cell_type": "code",
      "execution_count": null,
      "metadata": {
        "id": "VG1zhrybrmXW",
        "outputId": "2ec05821-f735-4a01-d142-f3181bff11a8"
      },
      "outputs": [
        {
          "data": {
            "text/plain": [
              "Text(0, 0.5, 'Loss')"
            ]
          },
          "execution_count": 22,
          "metadata": {},
          "output_type": "execute_result"
        },
        {
          "data": {
            "image/png": "[encoded data removed]",
            "text/plain": [
              "<Figure size 640x480 with 1 Axes>"
            ]
          },
          "metadata": {},
          "output_type": "display_data"
        }
      ],
      "source": [
        "plt.plot(model.history['loss'])\n",
        "plt.plot(model.history['val_loss'])\n",
        "plt.legend([\"loss\",\"val_loss\"])\n",
        "plt.title('Loss Vs Val_loss')\n",
        "plt.xlabel('Epoch')\n",
        "plt.ylabel('Loss')"
      ]
    },
    {
      "cell_type": "code",
      "execution_count": null,
      "metadata": {
        "id": "1SRI9-i_rmXX"
      },
      "outputs": [],
      "source": [
        "from sklearn.model_selection import KFold"
      ]
    },
    {
      "cell_type": "code",
      "execution_count": null,
      "metadata": {
        "id": "UmJ4zvcZrmXX"
      },
      "outputs": [],
      "source": [
        "# Define K-Fold parameters\n",
        "num_folds = 3\n",
        "kf = KFold(n_splits=num_folds, shuffle=True, random_state=42)"
      ]
    },
    {
      "cell_type": "code",
      "execution_count": null,
      "metadata": {
        "id": "YtROFm5ormXX"
      },
      "outputs": [],
      "source": [
        "# Define the CNN model\n",
        "def create_cnn_model():\n",
        "    cnn_model = tf.keras.models.Sequential()\n",
        "    #First CNN layer  with 32 filters, conv window 3, relu activation and same padding\n",
        "    cnn_model.add(Conv1D(filters=32, kernel_size=(3,), padding='same', activation=tf.keras.layers.LeakyReLU(alpha=0.003), input_shape = (X_train.shape[1],1)))\n",
        "    #Second CNN layer  with 64 filters, conv window 3, relu activation and same padding\n",
        "    cnn_model.add(Conv1D(filters=64, kernel_size=(3,), padding='same', activation=tf.keras.layers.LeakyReLU(alpha=0.003)))\n",
        "    #Third CNN layer with 128 filters, conv window 3, relu activation and same padding\n",
        "    cnn_model.add(Conv1D(filters=128, kernel_size=(3,), padding='same', activation=tf.keras.layers.LeakyReLU(alpha=0.003)))\n",
        "    #Fourth CNN layer with Max pooling\n",
        "    cnn_model.add(MaxPool1D(pool_size=(3,), strides=2, padding='same'))\n",
        "    cnn_model.add(Dropout(0.5))\n",
        "    #Flatten the output\n",
        "    cnn_model.add(Flatten())\n",
        "    #Add a dense layer with 256 neurons\n",
        "    cnn_model.add(Dense(units = 256, activation=tf.keras.layers.LeakyReLU(alpha=0.001)))\n",
        "    #Add a dense layer with 512 neurons\n",
        "    cnn_model.add(Dense(units = 512, activation=tf.keras.layers.LeakyReLU(alpha=0.001)))\n",
        "    #Softmax as last layer with five outputs\n",
        "    cnn_model.add(Dense(units = 5, activation='softmax'))\n",
        "    return model"
      ]
    },
    {
      "cell_type": "code",
      "execution_count": null,
      "metadata": {
        "id": "XzKYRgharmXX"
      },
      "outputs": [],
      "source": [
        "# Perform K-Fold cross-validation\n",
        "fold_accuracy = []\n",
        "\n",
        "for train_index, val_index in kf.split(x_train):\n",
        "    x_train_fold, x_val_fold = x_train[train_index], x_train[val_index]\n",
        "    y_train_fold, y_val_fold = y_train[train_index], y_train[val_index]\n",
        "\n",
        "    # Create a new model for each fold\n",
        "    model = create_model(nepochs=30,nalpha1=)\n",
        "    cnn_model.compile(optimizer='adam', loss = 'sparse_categorical_crossentropy', metrics=['accuracy'])\n",
        "    cnn_model.fit(X_train, y_train, epochs=10, batch_size = 10, validation_data = (X_test, y_test))\n",
        "\n",
        "    # Evaluate the model on the validation set\n",
        "    _, accuracy = model.evaluate(x_val_fold, y_val_fold)\n",
        "    fold_accuracy.append(accuracy)\n",
        "\n",
        "\n"
      ]
    },
    {
      "cell_type": "code",
      "execution_count": null,
      "metadata": {
        "id": "saOr497frmXX"
      },
      "outputs": [],
      "source": [
        "import matplotlib.pyplot as plt\n",
        "\n",
        "# Define the data for the boxplot\n",
        "data = [fold_accuracy]\n",
        "\n",
        "# Plot the boxplot\n",
        "plt.boxplot(data)\n",
        "\n",
        "# Add labels and title\n",
        "plt.xlabel('Fold')\n",
        "plt.ylabel('Accuracy')\n",
        "plt.title('Accuracy Distribution')\n",
        "\n",
        "# Show the plot\n",
        "plt.show()\n",
        ""
      ]
    },
    {
      "cell_type": "code",
      "execution_count": null,
      "metadata": {
        "id": "_XqbpcnWrmXX"
      },
      "outputs": [],
      "source": [
        "# Print the average accuracy over all folds\n",
        "print(f'Average Accuracy: {np.mean(fold_accuracy)}')\n",
        "\n",
        "# Evaluate the model on the test set\n",
        "test_loss, test_accuracy = model.evaluate(x_test, y_test)\n",
        "print(f'Test Accuracy: {test_accuracy}')"
      ]
    }
  ],
  "metadata": {
    "kernelspec": {
      "display_name": "Python 3",
      "language": "python",
      "name": "python3"
    },
    "language_info": {
      "codemirror_mode": {
        "name": "ipython",
        "version": 3
      },
      "file_extension": ".py",
      "mimetype": "text/x-python",
      "name": "python",
      "nbconvert_exporter": "python",
      "pygments_lexer": "ipython3",
      "version": "3.9.0"
    },
    "colab": {
      "provenance": []
    }
  },
  "nbformat": 4,
  "nbformat_minor": 0
}