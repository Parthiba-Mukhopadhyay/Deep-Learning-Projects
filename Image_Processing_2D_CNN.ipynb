{
  "cells": [
    {
      "cell_type": "code",
      "execution_count": null,
      "metadata": {
        "id": "UYzwARdBs7kb"
      },
      "outputs": [],
      "source": [
        "import os\n",
        "import cv2\n",
        "import numpy as np\n",
        "import pandas as pd\n",
        "from sklearn.model_selection import train_test_split\n",
        "from sklearn.metrics import classification_report\n",
        "from sklearn.preprocessing import LabelEncoder\n",
        "import tensorflow as tf\n",
        "from tensorflow.keras.models import Sequential\n",
        "from tensorflow.keras.layers import Conv2D, MaxPooling2D, Flatten, Dense, Dropout\n",
        "import matplotlib.pyplot as plt\n",
        "from tensorflow.keras.optimizers import Adam\n",
        "from tensorflow.keras.callbacks import EarlyStopping\n",
        "from keras.preprocessing.image import ImageDataGenerator"
      ]
    },
    {
      "cell_type": "code",
      "execution_count": null,
      "metadata": {
        "id": "dwpG7GHOs7kb"
      },
      "outputs": [],
      "source": [
        "label = pd.read_csv('Imagelabels.csv',header=None)"
      ]
    },
    {
      "cell_type": "code",
      "execution_count": null,
      "metadata": {
        "id": "zjDMbQp9s7kc",
        "outputId": "24077f04-3e0a-4efc-e5d1-ebe98213adad"
      },
      "outputs": [
        {
          "data": {
            "text/html": [
              "<div>\n",
              "<style scoped>\n",
              "    .dataframe tbody tr th:only-of-type {\n",
              "        vertical-align: middle;\n",
              "    }\n",
              "\n",
              "    .dataframe tbody tr th {\n",
              "        vertical-align: top;\n",
              "    }\n",
              "\n",
              "    .dataframe thead th {\n",
              "        text-align: right;\n",
              "    }\n",
              "</style>\n",
              "<table border=\"1\" class=\"dataframe\">\n",
              "  <thead>\n",
              "    <tr style=\"text-align: right;\">\n",
              "      <th></th>\n",
              "      <th>0</th>\n",
              "    </tr>\n",
              "  </thead>\n",
              "  <tbody>\n",
              "    <tr>\n",
              "      <th>0</th>\n",
              "      <td>0</td>\n",
              "    </tr>\n",
              "    <tr>\n",
              "      <th>1</th>\n",
              "      <td>0</td>\n",
              "    </tr>\n",
              "    <tr>\n",
              "      <th>2</th>\n",
              "      <td>0</td>\n",
              "    </tr>\n",
              "    <tr>\n",
              "      <th>3</th>\n",
              "      <td>0</td>\n",
              "    </tr>\n",
              "    <tr>\n",
              "      <th>4</th>\n",
              "      <td>0</td>\n",
              "    </tr>\n",
              "    <tr>\n",
              "      <th>...</th>\n",
              "      <td>...</td>\n",
              "    </tr>\n",
              "    <tr>\n",
              "      <th>1595</th>\n",
              "      <td>24</td>\n",
              "    </tr>\n",
              "    <tr>\n",
              "      <th>1596</th>\n",
              "      <td>24</td>\n",
              "    </tr>\n",
              "    <tr>\n",
              "      <th>1597</th>\n",
              "      <td>24</td>\n",
              "    </tr>\n",
              "    <tr>\n",
              "      <th>1598</th>\n",
              "      <td>24</td>\n",
              "    </tr>\n",
              "    <tr>\n",
              "      <th>1599</th>\n",
              "      <td>24</td>\n",
              "    </tr>\n",
              "  </tbody>\n",
              "</table>\n",
              "<p>1600 rows × 1 columns</p>\n",
              "</div>"
            ],
            "text/plain": [
              "       0\n",
              "0      0\n",
              "1      0\n",
              "2      0\n",
              "3      0\n",
              "4      0\n",
              "...   ..\n",
              "1595  24\n",
              "1596  24\n",
              "1597  24\n",
              "1598  24\n",
              "1599  24\n",
              "\n",
              "[1600 rows x 1 columns]"
            ]
          },
          "execution_count": 98,
          "metadata": {},
          "output_type": "execute_result"
        }
      ],
      "source": [
        "label"
      ]
    },
    {
      "cell_type": "code",
      "execution_count": null,
      "metadata": {
        "id": "MORcRM6js7kc",
        "outputId": "9c7f37ec-122b-4d9e-8a7d-8eaae406a09f"
      },
      "outputs": [
        {
          "data": {
            "text/plain": [
              "array([ 0,  1,  2,  3,  4,  5,  6,  7,  8,  9, 10, 11, 12, 13, 14, 15, 16,\n",
              "       17, 18, 19, 20, 21, 22, 23, 24], dtype=int64)"
            ]
          },
          "execution_count": 113,
          "metadata": {},
          "output_type": "execute_result"
        }
      ],
      "source": [
        "label[0].unique()"
      ]
    },
    {
      "cell_type": "code",
      "execution_count": null,
      "metadata": {
        "id": "8QFv20oDs7kc",
        "outputId": "b5a596ed-cf8e-4072-ec51-1536c19722a3"
      },
      "outputs": [
        {
          "name": "stdout",
          "output_type": "stream",
          "text": [
            "0 64\n",
            "1 64\n",
            "2 64\n",
            "3 64\n",
            "4 64\n",
            "5 64\n",
            "6 64\n",
            "7 64\n",
            "8 64\n",
            "9 64\n",
            "10 64\n",
            "11 64\n",
            "12 64\n",
            "13 64\n",
            "14 64\n",
            "15 64\n",
            "16 64\n",
            "17 64\n",
            "18 64\n",
            "19 64\n",
            "20 64\n",
            "21 64\n",
            "22 64\n",
            "23 64\n",
            "24 64\n"
          ]
        }
      ],
      "source": [
        "for i in label[0].unique():\n",
        "    print(i, label[0].value_counts()[i])"
      ]
    },
    {
      "cell_type": "markdown",
      "metadata": {
        "id": "vQ8CvdZ8s7kc"
      },
      "source": [
        "# Perfectly Balanced"
      ]
    },
    {
      "cell_type": "code",
      "execution_count": null,
      "metadata": {
        "id": "t4T4UFOIs7kd"
      },
      "outputs": [],
      "source": [
        "# Get list of image files\n",
        "image_dir = 'scalogram'\n",
        "image_files = os.listdir(image_dir)\n",
        "\n",
        "# Match labels with image paths\n",
        "image_paths = []\n",
        "for img_file in image_files:\n",
        "    image_paths.append(os.path.join(image_dir, img_file))"
      ]
    },
    {
      "cell_type": "code",
      "execution_count": null,
      "metadata": {
        "id": "gwuNQBIFs7ke",
        "outputId": "58b8a840-de49-43f6-bad3-26d87f178e83"
      },
      "outputs": [
        {
          "name": "stderr",
          "output_type": "stream",
          "text": [
            "c:\\Users\\Admin\\AppData\\Local\\Programs\\Python\\Python39\\lib\\site-packages\\sklearn\\preprocessing\\_label.py:114: DataConversionWarning: A column-vector y was passed when a 1d array was expected. Please change the shape of y to (n_samples, ), for example using ravel().\n",
            "  y = column_or_1d(y, warn=True)\n"
          ]
        }
      ],
      "source": [
        "# Encode labels\n",
        "label_encoder = LabelEncoder()\n",
        "labels = label_encoder.fit_transform(label)"
      ]
    },
    {
      "cell_type": "code",
      "execution_count": null,
      "metadata": {
        "id": "YgPAIzjts7ke"
      },
      "outputs": [],
      "source": [
        "# Example data augmentation parameters\n",
        "datagen = ImageDataGenerator(\n",
        "    rotation_range=20,\n",
        "    width_shift_range=0.1,\n",
        "    height_shift_range=0.1,\n",
        "    shear_range=0.2,\n",
        "    zoom_range=0.2,\n",
        "    horizontal_flip=True,\n",
        "    fill_mode='nearest'\n",
        ")"
      ]
    },
    {
      "cell_type": "code",
      "execution_count": null,
      "metadata": {
        "id": "9fjozscWs7ke"
      },
      "outputs": [],
      "source": [
        "# Load images\n",
        "images = []\n",
        "for img_path in image_paths:\n",
        "    img = cv2.imread(img_path)\n",
        "    #img = cv2.cvtColor(img, cv2.COLOR_BGR2GRAY)  # Convert to grayscale\n",
        "    img = cv2.resize(img, (64, 64))  # Resize image if necessary\n",
        "    images.append(img)\n",
        "\n",
        "images = np.array(images)"
      ]
    },
    {
      "cell_type": "code",
      "execution_count": null,
      "metadata": {
        "id": "91xpmAoZs7ke",
        "outputId": "c804a1b9-2fd0-4687-f17f-af19d7fa35ad"
      },
      "outputs": [
        {
          "data": {
            "text/plain": [
              "(64, 64, 3)"
            ]
          },
          "execution_count": 144,
          "metadata": {},
          "output_type": "execute_result"
        }
      ],
      "source": [
        "img.shape"
      ]
    },
    {
      "cell_type": "code",
      "execution_count": null,
      "metadata": {
        "id": "wJVtNIRBs7ke"
      },
      "outputs": [],
      "source": [
        "# Split data into training and testing sets\n",
        "X_train, X_test, y_train, y_test = train_test_split(images, label, test_size=0.3, random_state=42)\n",
        "\n",
        "# Normalize pixel values\n",
        "X_train = X_train / 255.0\n",
        "X_test = X_test / 255.0"
      ]
    },
    {
      "cell_type": "code",
      "execution_count": null,
      "metadata": {
        "id": "KGbk2TSZs7kf"
      },
      "outputs": [],
      "source": [
        "# Fit the augmentation method on the training data\n",
        "datagen.fit(X_train)"
      ]
    },
    {
      "cell_type": "code",
      "execution_count": null,
      "metadata": {
        "id": "8pH_Yey1s7kf"
      },
      "outputs": [],
      "source": [
        "# Configure the generator to continuously generate augmented images\n",
        "data_generator = datagen.flow(X_train, y_train, batch_size=32)"
      ]
    },
    {
      "cell_type": "code",
      "execution_count": null,
      "metadata": {
        "id": "9Z_yxViZs7kf",
        "outputId": "70910a1e-99ab-45cb-d7bc-c8a1e614dfa1"
      },
      "outputs": [
        {
          "data": {
            "image/png": "[encoded data removed]",
            "text/plain": [
              "<Figure size 1000x1000 with 9 Axes>"
            ]
          },
          "metadata": {},
          "output_type": "display_data"
        }
      ],
      "source": [
        "# Visualize some augmented images\n",
        "num_samples = 9\n",
        "plt.figure(figsize=(10, 10))\n",
        "for i in range(num_samples):\n",
        "    plt.subplot(3, 3, i+1)\n",
        "    batch = data_generator.next()\n",
        "    image = batch[0][0]  # Choose the first image in the batch\n",
        "    plt.imshow(np.uint8(image))\n",
        "    plt.axis('off')\n",
        "plt.show()"
      ]
    },
    {
      "cell_type": "code",
      "execution_count": null,
      "metadata": {
        "id": "MFck3E-0s7kf"
      },
      "outputs": [],
      "source": [
        "# Define CNN model\n",
        "model = Sequential([\n",
        "    Conv2D(32, (3, 3), activation='relu', input_shape=(64, 64,3)),\n",
        "    MaxPooling2D((2, 2)),\n",
        "    Conv2D(64, (3, 3), activation='relu'),\n",
        "    MaxPooling2D((2, 2)),\n",
        "    Conv2D(128, (3, 3), activation='relu'),\n",
        "    MaxPooling2D((2, 2)),\n",
        "    Conv2D(256, (3, 3), activation='relu'),  # Added convolutional layer\n",
        "    MaxPooling2D((2, 2)),\n",
        "    Flatten(),\n",
        "    Dense(128, activation='relu'),\n",
        "    Dropout(0.5),  # Dropout layer for regularization\n",
        "    Dense(25, activation='softmax')  # 25 classes\n",
        "])\n"
      ]
    },
    {
      "cell_type": "code",
      "execution_count": null,
      "metadata": {
        "id": "MChkkx5qs7kf"
      },
      "outputs": [],
      "source": [
        "# Compile model\n",
        "optimizer = Adam(learning_rate=0.0001)  # Adjust learning rate if needed\n",
        "model.compile(optimizer=optimizer, loss='sparse_categorical_crossentropy', metrics=['accuracy'])"
      ]
    },
    {
      "cell_type": "code",
      "execution_count": null,
      "metadata": {
        "id": "WF0fnoCCs7kg"
      },
      "outputs": [],
      "source": [
        "# Define early stopping callback\n",
        "early_stopping = EarlyStopping(monitor='val_loss', patience=3, restore_best_weights=True)"
      ]
    },
    {
      "cell_type": "code",
      "execution_count": null,
      "metadata": {
        "id": "q3qUfwp9s7kg",
        "outputId": "b64d2a2d-d84c-4db1-b53d-b120b55f7e28"
      },
      "outputs": [
        {
          "name": "stdout",
          "output_type": "stream",
          "text": [
            "Epoch 1/50\n",
            "70/70 [==============================] - 5s 45ms/step - loss: 3.2216 - accuracy: 0.0464 - val_loss: 3.2116 - val_accuracy: 0.0667\n",
            "Epoch 2/50\n",
            "70/70 [==============================] - 3s 36ms/step - loss: 3.2050 - accuracy: 0.0580 - val_loss: 3.1971 - val_accuracy: 0.1208\n",
            "Epoch 3/50\n",
            "70/70 [==============================] - 3s 37ms/step - loss: 3.1816 - accuracy: 0.0902 - val_loss: 3.1657 - val_accuracy: 0.1562\n",
            "Epoch 4/50\n",
            "70/70 [==============================] - 3s 37ms/step - loss: 3.1362 - accuracy: 0.1143 - val_loss: 3.1019 - val_accuracy: 0.1542\n",
            "Epoch 5/50\n",
            "70/70 [==============================] - 2s 36ms/step - loss: 3.0491 - accuracy: 0.1473 - val_loss: 3.0184 - val_accuracy: 0.1458\n",
            "Epoch 6/50\n",
            "70/70 [==============================] - 3s 36ms/step - loss: 2.9645 - accuracy: 0.1607 - val_loss: 2.9047 - val_accuracy: 0.1792\n",
            "Epoch 7/50\n",
            "70/70 [==============================] - 3s 36ms/step - loss: 2.8715 - accuracy: 0.1857 - val_loss: 2.8405 - val_accuracy: 0.1813\n",
            "Epoch 8/50\n",
            "70/70 [==============================] - 3s 41ms/step - loss: 2.7959 - accuracy: 0.2071 - val_loss: 2.7684 - val_accuracy: 0.1896\n",
            "Epoch 9/50\n",
            "70/70 [==============================] - 3s 44ms/step - loss: 2.7118 - accuracy: 0.2161 - val_loss: 2.7386 - val_accuracy: 0.2062\n",
            "Epoch 10/50\n",
            "70/70 [==============================] - 3s 47ms/step - loss: 2.6723 - accuracy: 0.2286 - val_loss: 2.6728 - val_accuracy: 0.1958\n",
            "Epoch 11/50\n",
            "70/70 [==============================] - 4s 52ms/step - loss: 2.6104 - accuracy: 0.2429 - val_loss: 2.6200 - val_accuracy: 0.2417\n",
            "Epoch 12/50\n",
            "70/70 [==============================] - 3s 42ms/step - loss: 2.5703 - accuracy: 0.2536 - val_loss: 2.5953 - val_accuracy: 0.2313\n",
            "Epoch 13/50\n",
            "70/70 [==============================] - 3s 46ms/step - loss: 2.5042 - accuracy: 0.2705 - val_loss: 2.5749 - val_accuracy: 0.2354\n",
            "Epoch 14/50\n",
            "70/70 [==============================] - 3s 41ms/step - loss: 2.4559 - accuracy: 0.2580 - val_loss: 2.5259 - val_accuracy: 0.2417\n",
            "Epoch 15/50\n",
            "70/70 [==============================] - 3s 42ms/step - loss: 2.4267 - accuracy: 0.2812 - val_loss: 2.5053 - val_accuracy: 0.2896\n",
            "Epoch 16/50\n",
            "70/70 [==============================] - 3s 38ms/step - loss: 2.3663 - accuracy: 0.3000 - val_loss: 2.4853 - val_accuracy: 0.2542\n",
            "Epoch 17/50\n",
            "70/70 [==============================] - 3s 43ms/step - loss: 2.3160 - accuracy: 0.3152 - val_loss: 2.4435 - val_accuracy: 0.3000\n",
            "Epoch 18/50\n",
            "70/70 [==============================] - 3s 49ms/step - loss: 2.3078 - accuracy: 0.2929 - val_loss: 2.4464 - val_accuracy: 0.3021\n",
            "Epoch 19/50\n",
            "70/70 [==============================] - 3s 44ms/step - loss: 2.2257 - accuracy: 0.3384 - val_loss: 2.3920 - val_accuracy: 0.3125\n",
            "Epoch 20/50\n",
            "70/70 [==============================] - 3s 36ms/step - loss: 2.2239 - accuracy: 0.3482 - val_loss: 2.3924 - val_accuracy: 0.3021\n",
            "Epoch 21/50\n",
            "70/70 [==============================] - 3s 36ms/step - loss: 2.1666 - accuracy: 0.3518 - val_loss: 2.3932 - val_accuracy: 0.2979\n",
            "Epoch 22/50\n",
            "70/70 [==============================] - 3s 37ms/step - loss: 2.1522 - accuracy: 0.3446 - val_loss: 2.3690 - val_accuracy: 0.2917\n",
            "Epoch 23/50\n",
            "70/70 [==============================] - 3s 36ms/step - loss: 2.1259 - accuracy: 0.3393 - val_loss: 2.3540 - val_accuracy: 0.3250\n",
            "Epoch 24/50\n",
            "70/70 [==============================] - 3s 38ms/step - loss: 2.0797 - accuracy: 0.3634 - val_loss: 2.3416 - val_accuracy: 0.3083\n",
            "Epoch 25/50\n",
            "70/70 [==============================] - 3s 36ms/step - loss: 2.0075 - accuracy: 0.3804 - val_loss: 2.3362 - val_accuracy: 0.3292\n",
            "Epoch 26/50\n",
            "70/70 [==============================] - 3s 36ms/step - loss: 1.9914 - accuracy: 0.3705 - val_loss: 2.3246 - val_accuracy: 0.3229\n",
            "Epoch 27/50\n",
            "70/70 [==============================] - 2s 36ms/step - loss: 1.9550 - accuracy: 0.3848 - val_loss: 2.3620 - val_accuracy: 0.3292\n",
            "Epoch 28/50\n",
            "70/70 [==============================] - 2s 36ms/step - loss: 1.9045 - accuracy: 0.4143 - val_loss: 2.3071 - val_accuracy: 0.3229\n",
            "Epoch 29/50\n",
            "70/70 [==============================] - 3s 37ms/step - loss: 1.8869 - accuracy: 0.4116 - val_loss: 2.2967 - val_accuracy: 0.3396\n",
            "Epoch 30/50\n",
            "70/70 [==============================] - 3s 37ms/step - loss: 1.8688 - accuracy: 0.4080 - val_loss: 2.3155 - val_accuracy: 0.3104\n",
            "Epoch 31/50\n",
            "70/70 [==============================] - 3s 37ms/step - loss: 1.8353 - accuracy: 0.4134 - val_loss: 2.3041 - val_accuracy: 0.3063\n",
            "Epoch 32/50\n",
            "70/70 [==============================] - 2s 36ms/step - loss: 1.7957 - accuracy: 0.4491 - val_loss: 2.2832 - val_accuracy: 0.3229\n",
            "Epoch 33/50\n",
            "70/70 [==============================] - 3s 38ms/step - loss: 1.7734 - accuracy: 0.4277 - val_loss: 2.3039 - val_accuracy: 0.3229\n",
            "Epoch 34/50\n",
            "70/70 [==============================] - 3s 37ms/step - loss: 1.7204 - accuracy: 0.4500 - val_loss: 2.3038 - val_accuracy: 0.3438\n",
            "Epoch 35/50\n",
            "70/70 [==============================] - 3s 36ms/step - loss: 1.6994 - accuracy: 0.4688 - val_loss: 2.2954 - val_accuracy: 0.3250\n"
          ]
        }
      ],
      "source": [
        "# Train model\n",
        "history = model.fit(X_train, y_train, epochs=50, batch_size=16, validation_data=(X_test, y_test), callbacks=[early_stopping])"
      ]
    },
    {
      "cell_type": "code",
      "execution_count": null,
      "metadata": {
        "id": "5rVfRABVs7kg",
        "outputId": "ff14e54d-6ff2-4499-957a-f59a70d83d0a"
      },
      "outputs": [
        {
          "data": {
            "text/plain": [
              "Text(0, 0.5, 'Accuracy')"
            ]
          },
          "execution_count": 176,
          "metadata": {},
          "output_type": "execute_result"
        },
        {
          "data": {
            "image/png": "[encoded data removed]",
            "text/plain": [
              "<Figure size 640x480 with 1 Axes>"
            ]
          },
          "metadata": {},
          "output_type": "display_data"
        }
      ],
      "source": [
        "plt.plot(model.history.history['accuracy'])\n",
        "plt.plot(model.history.history['val_accuracy'])\n",
        "plt.legend([\"accuracy\",\"val_accuracy\"])\n",
        "plt.title('Accuracy Vs Val_Accuracy')\n",
        "plt.xlabel('Epoch')\n",
        "plt.ylabel('Accuracy')"
      ]
    },
    {
      "cell_type": "code",
      "execution_count": null,
      "metadata": {
        "id": "M1fzt64ns7kg",
        "outputId": "2836656e-3feb-4979-a253-9cd08a656e44"
      },
      "outputs": [
        {
          "data": {
            "text/plain": [
              "Text(0, 0.5, 'Loss')"
            ]
          },
          "execution_count": 177,
          "metadata": {},
          "output_type": "execute_result"
        },
        {
          "data": {
            "image/png": "[encoded data removed]",
            "text/plain": [
              "<Figure size 640x480 with 1 Axes>"
            ]
          },
          "metadata": {},
          "output_type": "display_data"
        }
      ],
      "source": [
        "plt.plot(model.history.history['loss'])\n",
        "plt.plot(model.history.history['val_loss'])\n",
        "plt.legend([\"loss\",\"val_loss\"])\n",
        "plt.title('Loss Vs Val_loss')\n",
        "plt.xlabel('Epoch')\n",
        "plt.ylabel('Loss')"
      ]
    },
    {
      "cell_type": "code",
      "execution_count": null,
      "metadata": {
        "id": "nG3XXD1gs7kg",
        "outputId": "8cb566ab-d378-4b55-867a-b2966cab0644"
      },
      "outputs": [
        {
          "name": "stdout",
          "output_type": "stream",
          "text": [
            "15/15 [==============================] - 0s 18ms/step - loss: 2.2832 - accuracy: 0.3229\n",
            "Test Loss: 2.2832024097442627\n",
            "Test Accuracy: 0.3229166567325592\n"
          ]
        }
      ],
      "source": [
        "# Evaluate model\n",
        "test_loss, test_accuracy = model.evaluate(X_test, y_test)\n",
        "print(\"Test Loss:\", test_loss)\n",
        "print(\"Test Accuracy:\", test_accuracy)"
      ]
    },
    {
      "cell_type": "code",
      "execution_count": null,
      "metadata": {
        "id": "OmZEo8Ors7kh",
        "outputId": "9e0021a5-6325-4eca-889f-345e33590c60"
      },
      "outputs": [
        {
          "name": "stdout",
          "output_type": "stream",
          "text": [
            "15/15 [==============================] - 0s 17ms/step\n"
          ]
        }
      ],
      "source": [
        "# Generate predictions\n",
        "y_pred = model.predict(X_test)\n",
        "y_pred_classes = np.argmax(y_pred, axis=1)"
      ]
    },
    {
      "cell_type": "code",
      "execution_count": null,
      "metadata": {
        "id": "x-1_3jYas7kh",
        "outputId": "3714d10f-866e-405b-9e06-c7b43bfb1a1e"
      },
      "outputs": [
        {
          "data": {
            "text/plain": [
              "0        0\n",
              "1        0\n",
              "2        0\n",
              "3        0\n",
              "4        0\n",
              "        ..\n",
              "1595    24\n",
              "1596    24\n",
              "1597    24\n",
              "1598    24\n",
              "1599    24\n",
              "Name: 0, Length: 1600, dtype: int64"
            ]
          },
          "execution_count": 180,
          "metadata": {},
          "output_type": "execute_result"
        }
      ],
      "source": [
        "label[0]"
      ]
    },
    {
      "cell_type": "code",
      "execution_count": null,
      "metadata": {
        "id": "3T6HBX1Ns7kh",
        "outputId": "d085c803-1fa5-4161-a467-d63243e28a26"
      },
      "outputs": [
        {
          "name": "stdout",
          "output_type": "stream",
          "text": [
            "              precision    recall  f1-score   support\n",
            "\n",
            "           0       0.12      0.12      0.12        17\n",
            "           1       0.17      0.15      0.16        20\n",
            "           2       0.21      0.19      0.20        16\n",
            "           3       0.20      0.24      0.22        21\n",
            "           4       0.15      0.18      0.16        22\n",
            "           5       0.00      0.00      0.00        27\n",
            "           6       0.22      0.11      0.15        18\n",
            "           7       0.11      0.10      0.10        21\n",
            "           8       0.35      0.59      0.44        22\n",
            "           9       0.70      0.70      0.70        27\n",
            "          10       0.00      0.00      0.00        15\n",
            "          11       0.05      0.06      0.05        18\n",
            "          12       0.11      0.21      0.15        14\n",
            "          13       0.56      0.64      0.60        14\n",
            "          14       0.04      0.06      0.05        16\n",
            "          15       0.00      0.00      0.00        17\n",
            "          16       0.14      0.29      0.19        17\n",
            "          17       0.30      0.15      0.20        20\n",
            "          18       0.52      0.65      0.58        23\n",
            "          19       0.45      0.45      0.45        20\n",
            "          20       0.88      0.84      0.86        25\n",
            "          21       0.52      0.55      0.54        20\n",
            "          22       0.38      0.71      0.50        14\n",
            "          23       0.67      0.59      0.62        17\n",
            "          24       0.50      0.21      0.30        19\n",
            "\n",
            "    accuracy                           0.32       480\n",
            "   macro avg       0.29      0.31      0.29       480\n",
            "weighted avg       0.31      0.32      0.31       480\n",
            "\n"
          ]
        }
      ],
      "source": [
        "# Convert label_encoder.classes_ to a list of strings\n",
        "class_names = [str(class_name) for class_name in label_encoder.classes_]\n",
        "\n",
        "# Classification report\n",
        "print(classification_report(y_test, y_pred_classes, target_names=class_names))"
      ]
    }
  ],
  "metadata": {
    "kernelspec": {
      "display_name": "Python 3",
      "language": "python",
      "name": "python3"
    },
    "language_info": {
      "codemirror_mode": {
        "name": "ipython",
        "version": 3
      },
      "file_extension": ".py",
      "mimetype": "text/x-python",
      "name": "python",
      "nbconvert_exporter": "python",
      "pygments_lexer": "ipython3",
      "version": "3.9.0"
    },
    "colab": {
      "provenance": []
    }
  },
  "nbformat": 4,
  "nbformat_minor": 0
}