{
  "nbformat": 4,
  "nbformat_minor": 0,
  "metadata": {
    "colab": {
      "provenance": []
    },
    "kernelspec": {
      "name": "python3",
      "display_name": "Python 3"
    },
    "language_info": {
      "name": "python"
    }
  },
  "cells": [
    {
      "cell_type": "code",
      "execution_count": null,
      "metadata": {
        "id": "hDIOeSFkQHn0"
      },
      "outputs": [],
      "source": [
        "import numpy as np\n",
        "import tensorflow as tf\n",
        "from tensorflow.keras import layers, models\n",
        "from tensorflow.keras.datasets import mnist\n",
        "import matplotlib.pyplot as plt"
      ]
    },
    {
      "cell_type": "code",
      "source": [
        "# Load and preprocess the MNIST dataset then normalize the pixel value between 0 and 1\n",
        "(x_train, _), (x_test, _) = mnist.load_data()\n",
        "x_train = x_train.astype('float32') / 255.0\n",
        "x_test = x_test.astype('float32') / 255.0"
      ],
      "metadata": {
        "id": "01pGdkI5b8Id"
      },
      "execution_count": null,
      "outputs": []
    },
    {
      "cell_type": "code",
      "source": [
        "# Flatten the images to a 1D array\n",
        "x_train = x_train.reshape((len(x_train), np.prod(x_train.shape[1:])))\n",
        "x_test = x_test.reshape((len(x_test), np.prod(x_test.shape[1:])))"
      ],
      "metadata": {
        "id": "Q1rlDqfoctVb"
      },
      "execution_count": null,
      "outputs": []
    },
    {
      "cell_type": "code",
      "source": [
        "# Define the autoencoder architecture\n",
        "input_size = 784  # 28x28 pixels flattened\n",
        "encoding_dim = 32  # Size of the encoded representation (you can adjust this)"
      ],
      "metadata": {
        "id": "tf1b3vnIb-Hz"
      },
      "execution_count": null,
      "outputs": []
    },
    {
      "cell_type": "code",
      "source": [
        "input_img = tf.keras.Input(shape=(input_size,))\n",
        "encoded = layers.Dense(encoding_dim, activation='relu')(input_img)\n",
        "decoded = layers.Dense(input_size, activation='sigmoid')(encoded)"
      ],
      "metadata": {
        "id": "DSeSzJ6OcDvo"
      },
      "execution_count": null,
      "outputs": []
    },
    {
      "cell_type": "code",
      "source": [
        "\n",
        "autoencoder = models.Model(input_img, decoded)"
      ],
      "metadata": {
        "id": "pisz7jrUcGjU"
      },
      "execution_count": null,
      "outputs": []
    },
    {
      "cell_type": "code",
      "source": [
        "\n",
        "# Compile the autoencoder\n",
        "autoencoder.compile(optimizer='adam', loss='binary_crossentropy')"
      ],
      "metadata": {
        "id": "TyBEjL7ncM43"
      },
      "execution_count": null,
      "outputs": []
    },
    {
      "cell_type": "code",
      "source": [
        "# Train the autoencoder\n",
        "autoencoder.fit(x_train, x_train, epochs=50, batch_size=256, shuffle=True, validation_data=(x_test, x_test))\n"
      ],
      "metadata": {
        "colab": {
          "base_uri": "https://localhost:8080/"
        },
        "id": "1SMw-_5xcOZh",
        "outputId": "482f2a5b-f254-4088-c7aa-314cf38142aa"
      },
      "execution_count": null,
      "outputs": [
        {
          "output_type": "stream",
          "name": "stdout",
          "text": [
            "Epoch 1/50\n",
            "235/235 [==============================] - 5s 15ms/step - loss: 0.2751 - val_loss: 0.1848\n",
            "Epoch 2/50\n",
            "235/235 [==============================] - 3s 14ms/step - loss: 0.1679 - val_loss: 0.1522\n",
            "Epoch 3/50\n",
            "235/235 [==============================] - 3s 14ms/step - loss: 0.1436 - val_loss: 0.1334\n",
            "Epoch 4/50\n",
            "235/235 [==============================] - 3s 13ms/step - loss: 0.1285 - val_loss: 0.1212\n",
            "Epoch 5/50\n",
            "235/235 [==============================] - 2s 10ms/step - loss: 0.1180 - val_loss: 0.1125\n",
            "Epoch 6/50\n",
            "235/235 [==============================] - 2s 10ms/step - loss: 0.1106 - val_loss: 0.1065\n",
            "Epoch 7/50\n",
            "235/235 [==============================] - 2s 9ms/step - loss: 0.1055 - val_loss: 0.1020\n",
            "Epoch 8/50\n",
            "235/235 [==============================] - 2s 11ms/step - loss: 0.1017 - val_loss: 0.0988\n",
            "Epoch 9/50\n",
            "235/235 [==============================] - 3s 13ms/step - loss: 0.0991 - val_loss: 0.0967\n",
            "Epoch 10/50\n",
            "235/235 [==============================] - 2s 10ms/step - loss: 0.0973 - val_loss: 0.0954\n",
            "Epoch 11/50\n",
            "235/235 [==============================] - 2s 10ms/step - loss: 0.0962 - val_loss: 0.0944\n",
            "Epoch 12/50\n",
            "235/235 [==============================] - 2s 10ms/step - loss: 0.0955 - val_loss: 0.0938\n",
            "Epoch 13/50\n",
            "235/235 [==============================] - 3s 11ms/step - loss: 0.0950 - val_loss: 0.0934\n",
            "Epoch 14/50\n",
            "235/235 [==============================] - 3s 13ms/step - loss: 0.0946 - val_loss: 0.0931\n",
            "Epoch 15/50\n",
            "235/235 [==============================] - 2s 10ms/step - loss: 0.0944 - val_loss: 0.0929\n",
            "Epoch 16/50\n",
            "235/235 [==============================] - 2s 10ms/step - loss: 0.0942 - val_loss: 0.0928\n",
            "Epoch 17/50\n",
            "235/235 [==============================] - 2s 10ms/step - loss: 0.0940 - val_loss: 0.0926\n",
            "Epoch 18/50\n",
            "235/235 [==============================] - 3s 11ms/step - loss: 0.0939 - val_loss: 0.0925\n",
            "Epoch 19/50\n",
            "235/235 [==============================] - 3s 12ms/step - loss: 0.0938 - val_loss: 0.0924\n",
            "Epoch 20/50\n",
            "235/235 [==============================] - 2s 10ms/step - loss: 0.0937 - val_loss: 0.0923\n",
            "Epoch 21/50\n",
            "235/235 [==============================] - 2s 10ms/step - loss: 0.0936 - val_loss: 0.0923\n",
            "Epoch 22/50\n",
            "235/235 [==============================] - 2s 10ms/step - loss: 0.0935 - val_loss: 0.0922\n",
            "Epoch 23/50\n",
            "235/235 [==============================] - 3s 12ms/step - loss: 0.0934 - val_loss: 0.0921\n",
            "Epoch 24/50\n",
            "235/235 [==============================] - 3s 12ms/step - loss: 0.0934 - val_loss: 0.0921\n",
            "Epoch 25/50\n",
            "235/235 [==============================] - 2s 10ms/step - loss: 0.0933 - val_loss: 0.0920\n",
            "Epoch 26/50\n",
            "235/235 [==============================] - 2s 10ms/step - loss: 0.0933 - val_loss: 0.0921\n",
            "Epoch 27/50\n",
            "235/235 [==============================] - 2s 10ms/step - loss: 0.0932 - val_loss: 0.0919\n",
            "Epoch 28/50\n",
            "235/235 [==============================] - 3s 12ms/step - loss: 0.0932 - val_loss: 0.0920\n",
            "Epoch 29/50\n",
            "235/235 [==============================] - 3s 12ms/step - loss: 0.0931 - val_loss: 0.0919\n",
            "Epoch 30/50\n",
            "235/235 [==============================] - 3s 13ms/step - loss: 0.0931 - val_loss: 0.0919\n",
            "Epoch 31/50\n",
            "235/235 [==============================] - 2s 10ms/step - loss: 0.0931 - val_loss: 0.0918\n",
            "Epoch 32/50\n",
            "235/235 [==============================] - 2s 10ms/step - loss: 0.0930 - val_loss: 0.0919\n",
            "Epoch 33/50\n",
            "235/235 [==============================] - 3s 14ms/step - loss: 0.0930 - val_loss: 0.0918\n",
            "Epoch 34/50\n",
            "235/235 [==============================] - 2s 10ms/step - loss: 0.0930 - val_loss: 0.0918\n",
            "Epoch 35/50\n",
            "235/235 [==============================] - 2s 10ms/step - loss: 0.0929 - val_loss: 0.0917\n",
            "Epoch 36/50\n",
            "235/235 [==============================] - 2s 10ms/step - loss: 0.0929 - val_loss: 0.0917\n",
            "Epoch 37/50\n",
            "235/235 [==============================] - 2s 10ms/step - loss: 0.0929 - val_loss: 0.0917\n",
            "Epoch 38/50\n",
            "235/235 [==============================] - 3s 14ms/step - loss: 0.0929 - val_loss: 0.0916\n",
            "Epoch 39/50\n",
            "235/235 [==============================] - 2s 10ms/step - loss: 0.0928 - val_loss: 0.0916\n",
            "Epoch 40/50\n",
            "235/235 [==============================] - 2s 10ms/step - loss: 0.0928 - val_loss: 0.0916\n",
            "Epoch 41/50\n",
            "235/235 [==============================] - 2s 10ms/step - loss: 0.0928 - val_loss: 0.0916\n",
            "Epoch 42/50\n",
            "235/235 [==============================] - 2s 10ms/step - loss: 0.0928 - val_loss: 0.0916\n",
            "Epoch 43/50\n",
            "235/235 [==============================] - 3s 14ms/step - loss: 0.0928 - val_loss: 0.0916\n",
            "Epoch 44/50\n",
            "235/235 [==============================] - 2s 10ms/step - loss: 0.0927 - val_loss: 0.0916\n",
            "Epoch 45/50\n",
            "235/235 [==============================] - 2s 10ms/step - loss: 0.0927 - val_loss: 0.0915\n",
            "Epoch 46/50\n",
            "235/235 [==============================] - 2s 10ms/step - loss: 0.0927 - val_loss: 0.0915\n",
            "Epoch 47/50\n",
            "235/235 [==============================] - 2s 10ms/step - loss: 0.0927 - val_loss: 0.0915\n",
            "Epoch 48/50\n",
            "235/235 [==============================] - 3s 14ms/step - loss: 0.0927 - val_loss: 0.0915\n",
            "Epoch 49/50\n",
            "235/235 [==============================] - 2s 10ms/step - loss: 0.0927 - val_loss: 0.0915\n",
            "Epoch 50/50\n",
            "235/235 [==============================] - 2s 10ms/step - loss: 0.0927 - val_loss: 0.0915\n"
          ]
        },
        {
          "output_type": "execute_result",
          "data": {
            "text/plain": [
              "<keras.src.callbacks.History at 0x7d14c1ff7670>"
            ]
          },
          "metadata": {},
          "execution_count": 21
        }
      ]
    },
    {
      "cell_type": "code",
      "source": [
        "# Create an encoder model to extract features from the latent space\n",
        "encoder = models.Model(input_img, encoded)"
      ],
      "metadata": {
        "id": "uCR1bII8cRLn"
      },
      "execution_count": null,
      "outputs": []
    },
    {
      "cell_type": "code",
      "source": [
        "# Encode the images to get the reduced features\n",
        "encoded_imgs_train = encoder.predict(x_train)\n",
        "encoded_imgs_test = encoder.predict(x_test)"
      ],
      "metadata": {
        "colab": {
          "base_uri": "https://localhost:8080/"
        },
        "id": "XoygCB61c5NW",
        "outputId": "778f7770-7937-4bee-aea0-4e9f38d7cf24"
      },
      "execution_count": null,
      "outputs": [
        {
          "output_type": "stream",
          "name": "stdout",
          "text": [
            "1875/1875 [==============================] - 3s 1ms/step\n",
            "313/313 [==============================] - 1s 2ms/step\n"
          ]
        }
      ]
    },
    {
      "cell_type": "code",
      "source": [
        "# Visualize original and reconstructed images\n",
        "n = 10  # Number of digits to display\n",
        "plt.figure(figsize=(20, 4))"
      ],
      "metadata": {
        "colab": {
          "base_uri": "https://localhost:8080/",
          "height": 52
        },
        "id": "WgMVbOc1c8Bs",
        "outputId": "135d657b-a82f-426c-c127-9e183cae4cf4"
      },
      "execution_count": null,
      "outputs": [
        {
          "output_type": "execute_result",
          "data": {
            "text/plain": [
              "<Figure size 2000x400 with 0 Axes>"
            ]
          },
          "metadata": {},
          "execution_count": 24
        },
        {
          "output_type": "display_data",
          "data": {
            "text/plain": [
              "<Figure size 2000x400 with 0 Axes>"
            ]
          },
          "metadata": {}
        }
      ]
    },
    {
      "cell_type": "code",
      "source": [
        "for i in range(n):\n",
        "   # Original images\n",
        "   ax = plt.subplot(2, n, i + 1)\n",
        "   plt.imshow(x_test[i].reshape(28, 28))\n",
        "   plt.gray()\n",
        "   ax.get_xaxis().set_visible(False)\n",
        "   ax.get_yaxis().set_visible(False)\n",
        "plt.show()"
      ],
      "metadata": {
        "colab": {
          "base_uri": "https://localhost:8080/",
          "height": 79
        },
        "id": "9ljTPc-Oc_Jp",
        "outputId": "2dffdda2-9d68-4f2a-add8-e9d513b4aa6d"
      },
      "execution_count": null,
      "outputs": [
        {
          "output_type": "display_data",
          "data": {
            "text/plain": [
              "<Figure size 640x480 with 10 Axes>"
            ],
            "image/png": "[encoded data removed]"
          },
          "metadata": {}
        }
      ]
    },
    {
      "cell_type": "code",
      "source": [
        " # Encoded images\n",
        "for i in range(n):\n",
        "   ax = plt.subplot(2, n, i + 1 + n)\n",
        "   plt.imshow(encoded_imgs_test[i].reshape(8, 4))  # Adjust the shape based on encoding_dim\n",
        "   plt.gray()\n",
        "   ax.get_xaxis().set_visible(False)\n",
        "   ax.get_yaxis().set_visible(False)\n",
        "plt.show()"
      ],
      "metadata": {
        "colab": {
          "base_uri": "https://localhost:8080/",
          "height": 121
        },
        "id": "8flUQ6ttdE-A",
        "outputId": "840c1d94-2853-4c6f-98a5-a249073ae3cc"
      },
      "execution_count": null,
      "outputs": [
        {
          "output_type": "display_data",
          "data": {
            "text/plain": [
              "<Figure size 640x480 with 10 Axes>"
            ],
            "image/png": "[encoded data removed]"
          },
          "metadata": {}
        }
      ]
    }
  ]
}